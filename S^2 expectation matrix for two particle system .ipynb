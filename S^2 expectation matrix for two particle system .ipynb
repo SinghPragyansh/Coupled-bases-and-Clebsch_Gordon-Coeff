{
 "cells": [
  {
   "cell_type": "code",
   "execution_count": 1,
   "id": "5552f355",
   "metadata": {},
   "outputs": [],
   "source": [
    "# Solving 4x4 eigen value matrix problem of \"S^2\" operator for two non-interacting particle"
   ]
  },
  {
   "cell_type": "code",
   "execution_count": 2,
   "id": "e9985e6d",
   "metadata": {},
   "outputs": [],
   "source": [
    "import numpy as np\n",
    "import scipy as sc\n",
    "import scipy.linalg as sal"
   ]
  },
  {
   "cell_type": "code",
   "execution_count": 3,
   "id": "79a50295",
   "metadata": {},
   "outputs": [
    {
     "data": {
      "text/plain": [
       "array([[2, 0, 0, 0],\n",
       "       [0, 1, 1, 0],\n",
       "       [0, 1, 1, 0],\n",
       "       [0, 0, 0, 2]])"
      ]
     },
     "execution_count": 3,
     "metadata": {},
     "output_type": "execute_result"
    }
   ],
   "source": [
    "m = np.array([[2,0,0,0], [0,1,1,0], [0,1,1,0], [0,0,0,2]])\n",
    "m"
   ]
  },
  {
   "cell_type": "code",
   "execution_count": 4,
   "id": "2670342f",
   "metadata": {},
   "outputs": [],
   "source": [
    "val, vec = sal.eig(m)"
   ]
  },
  {
   "cell_type": "code",
   "execution_count": 5,
   "id": "a64a717b",
   "metadata": {},
   "outputs": [
    {
     "data": {
      "text/plain": [
       "(array([[ 0.        ,  0.        ,  1.        ,  0.        ],\n",
       "        [ 0.70710678,  0.70710678,  0.        ,  0.        ],\n",
       "        [ 0.70710678, -0.70710678,  0.        ,  0.        ],\n",
       "        [ 0.        ,  0.        ,  0.        ,  1.        ]]),\n",
       " array([2.+0.j, 0.+0.j, 2.+0.j, 2.+0.j]))"
      ]
     },
     "execution_count": 5,
     "metadata": {},
     "output_type": "execute_result"
    }
   ],
   "source": [
    "vec, val"
   ]
  },
  {
   "cell_type": "code",
   "execution_count": 9,
   "id": "689f2f73",
   "metadata": {},
   "outputs": [],
   "source": [
    "m2 = np.array([[1,0,0,0], [0,-1,0,0],[0,0,1,0],[0,0,0,-1]])"
   ]
  },
  {
   "cell_type": "code",
   "execution_count": 10,
   "id": "f674ea57",
   "metadata": {},
   "outputs": [],
   "source": [
    "val2, vec2 = sal.eig(m2)"
   ]
  },
  {
   "cell_type": "code",
   "execution_count": 11,
   "id": "e1311e57",
   "metadata": {},
   "outputs": [
    {
     "data": {
      "text/plain": [
       "(array([ 1.+0.j, -1.+0.j,  1.+0.j, -1.+0.j]),\n",
       " array([[1., 0., 0., 0.],\n",
       "        [0., 1., 0., 0.],\n",
       "        [0., 0., 1., 0.],\n",
       "        [0., 0., 0., 1.]]))"
      ]
     },
     "execution_count": 11,
     "metadata": {},
     "output_type": "execute_result"
    }
   ],
   "source": [
    "val2, vec2"
   ]
  },
  {
   "cell_type": "code",
   "execution_count": null,
   "id": "f1f43341",
   "metadata": {},
   "outputs": [],
   "source": []
  }
 ],
 "metadata": {
  "kernelspec": {
   "display_name": "Python 3",
   "language": "python",
   "name": "python3"
  },
  "language_info": {
   "codemirror_mode": {
    "name": "ipython",
    "version": 3
   },
   "file_extension": ".py",
   "mimetype": "text/x-python",
   "name": "python",
   "nbconvert_exporter": "python",
   "pygments_lexer": "ipython3",
   "version": "3.8.8"
  }
 },
 "nbformat": 4,
 "nbformat_minor": 5
}

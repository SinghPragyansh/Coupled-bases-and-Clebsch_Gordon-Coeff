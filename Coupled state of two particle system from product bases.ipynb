{
 "cells": [
  {
   "cell_type": "code",
   "execution_count": 101,
   "id": "e5f8adeb",
   "metadata": {},
   "outputs": [],
   "source": [
    "import numpy as np\n",
    "import scipy.linalg as sal"
   ]
  },
  {
   "cell_type": "code",
   "execution_count": 102,
   "id": "743dba56",
   "metadata": {},
   "outputs": [],
   "source": [
    "## The eigen function in product bases is known, now we have apply S^2 operator \n",
    "# on the two particle system eigen functions, then form the matrix \n",
    "# and find the coupled bases as the eigen vector of the corresponding matrix of S^2."
   ]
  },
  {
   "cell_type": "code",
   "execution_count": 103,
   "id": "b8940305",
   "metadata": {},
   "outputs": [],
   "source": [
    "h_cut = 1\n",
    "m_e = 1"
   ]
  },
  {
   "cell_type": "code",
   "execution_count": 104,
   "id": "99fd4cae",
   "metadata": {},
   "outputs": [],
   "source": [
    "def inner_product(left_vec, right_vec):\n",
    "    bra = (np.conj(left_vec)).T\n",
    "    ket = right_vec\n",
    "    inner_prod = bra @ ket\n",
    "    return inner_prod"
   ]
  },
  {
   "cell_type": "code",
   "execution_count": 105,
   "id": "2827bb6b",
   "metadata": {},
   "outputs": [],
   "source": [
    "def norm_column_vec(x):\n",
    "    # m, n = x.shape\n",
    "    inner_pro = inner_product(x, x)\n",
    "    # inner_prodcut is still a 1x1 array, lets extract the element and take its sqrt\n",
    "    norm = np.sqrt(np.squeeze(inner_pro))\n",
    "    x_norm = x / norm\n",
    "    return x_norm"
   ]
  },
  {
   "cell_type": "code",
   "execution_count": 106,
   "id": "5ebc3105",
   "metadata": {},
   "outputs": [],
   "source": [
    "def product_bases(eig_vec):\n",
    "    up_up = eig_vec[0].reshape(-1,1)\n",
    "    up_down = eig_vec[1].reshape(-1,1)\n",
    "    down_up = eig_vec[2].reshape(-1,1)\n",
    "    down_down = eig_vec[3].reshape(-1,1)\n",
    "    \n",
    "    function_list = [up_up, up_down, down_up, down_down]\n",
    "    function_dict = {\"up_up\": up_up,\n",
    "                \"up_down\": up_down,\n",
    "                \"down_up\": down_up,\n",
    "                \"down_down\": down_down}\n",
    "    return function_list, function_dict"
   ]
  },
  {
   "cell_type": "code",
   "execution_count": 107,
   "id": "25bf2168",
   "metadata": {},
   "outputs": [],
   "source": [
    "def individual_spin_operation_matrix():\n",
    "    S_1_2 = np.array([[3/4,0,0,0],[0,3/4,0,0],[0,0,3/4,0], [0,0,0,3/4]])\n",
    "    S_1z = np.array([[1/2,0,0,0],[0,1/2,0,0],[0,0,-1/2,0], [0,0,0,-1/2]])\n",
    "    S_2z = np.array([[1/2,0,0,0],[0,-1/2,0,0],[0,0,1/2,0], [0,0,0,-1/2]])\n",
    "    S_1_plus = np.array([[0,0,1,0],[0,0,0,1],[0,0,0,0], [0,0,0,0]])\n",
    "    S_2_plus = np.array([[0,1,0,0],[0,0,0,0],[0,0,0,1], [0,0,0,0]])\n",
    "    S_1_minus = np.array([[0,0,0,0],[0,0,0,0],[1,0,0,0], [0,1,0,0]])\n",
    "    S_2_minus = np.array([[0,0,0,0],[1,0,0,0],[0,0,0,0], [0,0,1,0]])\n",
    "    \n",
    "    operate = {\"S_1_2\": S_1_2,\n",
    "               \"S_2_2\": S_1_2,\n",
    "               \"S_1z\": S_1z,\n",
    "               \"S_2z\" : S_2z,\n",
    "               \"S_1_plus\": S_1_plus,\n",
    "               \"S_2_plus\" : S_2_plus,\n",
    "               \"S_1_minus\": S_1_minus,\n",
    "               \"S_2_minus\" : S_2_minus\n",
    "              }\n",
    "    return operate"
   ]
  },
  {
   "cell_type": "code",
   "execution_count": 108,
   "id": "7865fd71",
   "metadata": {},
   "outputs": [],
   "source": [
    "# Solve this to find eigen_vectors corresponding to the product bases; S_1^2 = S_2^2\n",
    "# representation S_1^2 = S_1_2; and S_2^2 = S_2_2; since S_1_2 = S_2_2\n",
    "operate = individual_spin_operation_matrix()\n",
    "S_1_2 = operate[\"S_1_2\"]\n",
    "val, vec = sal.eig(S_z)\n",
    "function_list, function_dict = product_bases(vec)"
   ]
  },
  {
   "cell_type": "code",
   "execution_count": 111,
   "id": "bb1e24cd",
   "metadata": {},
   "outputs": [],
   "source": [
    "def S_2_operate(function_list):\n",
    "    l = len(function_list)\n",
    "    mat = np.zeros((l,l))\n",
    "    operate = individual_spin_operation_matrix()\n",
    "    S_1_2 = operate[\"S_1_2\"]\n",
    "    S_2_2 = operate[\"S_2_2\"]\n",
    "    S_1_plus = operate[\"S_1_plus\"]\n",
    "    S_2_plus = operate[\"S_2_plus\"]\n",
    "    S_1_minus = operate[\"S_1_minus\"]\n",
    "    S_2_minus = operate[\"S_2_minus\"]\n",
    "    S_1z = operate[\"S_1z\"]\n",
    "    S_2z = operate[\"S_2z\"]\n",
    "    \n",
    "    S_2_operation = S_1_2 + S_2_2 + 2*(0.5*(S_1_plus@S_2_minus+ S_1_minus@S_2_plus) + S_1z@S_2z)\n",
    "    \n",
    "    for i in range(l):\n",
    "        for j in range(l):\n",
    "            mat[i,j] = np.squeeze(function_list[i].T @ S_2_operation @ function_list[j])\n",
    "            \n",
    "    return mat"
   ]
  },
  {
   "cell_type": "code",
   "execution_count": 113,
   "id": "25129dc3",
   "metadata": {},
   "outputs": [
    {
     "data": {
      "text/plain": [
       "array([[2., 0., 0., 0.],\n",
       "       [0., 1., 1., 0.],\n",
       "       [0., 1., 1., 0.],\n",
       "       [0., 0., 0., 2.]])"
      ]
     },
     "execution_count": 113,
     "metadata": {},
     "output_type": "execute_result"
    }
   ],
   "source": [
    "S_2_mat = S_2_operate(function_list)\n",
    "S_2_mat"
   ]
  },
  {
   "cell_type": "code",
   "execution_count": 114,
   "id": "0894995d",
   "metadata": {},
   "outputs": [],
   "source": [
    "# Solving for the coupled bases and clebsch gordon coeff\n",
    "coupled_val ,coupled_vec = sal.eig(S_2_mat)"
   ]
  },
  {
   "cell_type": "code",
   "execution_count": 117,
   "id": "7639eb2b",
   "metadata": {},
   "outputs": [
    {
     "data": {
      "text/plain": [
       "array([2.+0.j, 0.+0.j, 2.+0.j, 2.+0.j])"
      ]
     },
     "execution_count": 117,
     "metadata": {},
     "output_type": "execute_result"
    }
   ],
   "source": [
    "coupled_val"
   ]
  },
  {
   "cell_type": "code",
   "execution_count": 120,
   "id": "29d0d3d8",
   "metadata": {},
   "outputs": [
    {
     "data": {
      "text/plain": [
       "array([[ 0.        ,  0.70710678,  0.70710678,  0.        ],\n",
       "       [ 0.        ,  0.70710678, -0.70710678,  0.        ],\n",
       "       [ 1.        ,  0.        ,  0.        ,  0.        ],\n",
       "       [ 0.        ,  0.        ,  0.        ,  1.        ]])"
      ]
     },
     "execution_count": 120,
     "metadata": {},
     "output_type": "execute_result"
    }
   ],
   "source": [
    "CG_matrix = coupled_vec.T\n",
    "CG_matrix"
   ]
  },
  {
   "cell_type": "markdown",
   "id": "b9773d1a",
   "metadata": {},
   "source": [
    "From the coupled value, we can see that second eigen vector corresponds to a singlet state\n",
    "wehre as all other vectors are for triplet state:"
   ]
  },
  {
   "cell_type": "code",
   "execution_count": null,
   "id": "54749bf6",
   "metadata": {},
   "outputs": [],
   "source": []
  }
 ],
 "metadata": {
  "kernelspec": {
   "display_name": "Python 3",
   "language": "python",
   "name": "python3"
  },
  "language_info": {
   "codemirror_mode": {
    "name": "ipython",
    "version": 3
   },
   "file_extension": ".py",
   "mimetype": "text/x-python",
   "name": "python",
   "nbconvert_exporter": "python",
   "pygments_lexer": "ipython3",
   "version": "3.8.8"
  }
 },
 "nbformat": 4,
 "nbformat_minor": 5
}
